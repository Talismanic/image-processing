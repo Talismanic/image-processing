{
 "cells": [
  {
   "cell_type": "code",
   "execution_count": 37,
   "id": "c691cf0f",
   "metadata": {},
   "outputs": [
    {
     "data": {
      "text/html": [
       "<div>\n",
       "<style scoped>\n",
       "    .dataframe tbody tr th:only-of-type {\n",
       "        vertical-align: middle;\n",
       "    }\n",
       "\n",
       "    .dataframe tbody tr th {\n",
       "        vertical-align: top;\n",
       "    }\n",
       "\n",
       "    .dataframe thead th {\n",
       "        text-align: right;\n",
       "    }\n",
       "</style>\n",
       "<table border=\"1\" class=\"dataframe\">\n",
       "  <thead>\n",
       "    <tr style=\"text-align: right;\">\n",
       "      <th></th>\n",
       "      <th>0</th>\n",
       "      <th>1</th>\n",
       "      <th>2</th>\n",
       "      <th>3</th>\n",
       "      <th>4</th>\n",
       "      <th>5</th>\n",
       "      <th>6</th>\n",
       "      <th>7</th>\n",
       "    </tr>\n",
       "  </thead>\n",
       "  <tbody>\n",
       "    <tr>\n",
       "      <th>0</th>\n",
       "      <td>15.26</td>\n",
       "      <td>14.84</td>\n",
       "      <td>0.8710</td>\n",
       "      <td>5.763</td>\n",
       "      <td>3.312</td>\n",
       "      <td>2.221</td>\n",
       "      <td>5.220</td>\n",
       "      <td>1</td>\n",
       "    </tr>\n",
       "    <tr>\n",
       "      <th>1</th>\n",
       "      <td>14.88</td>\n",
       "      <td>14.57</td>\n",
       "      <td>0.8811</td>\n",
       "      <td>5.554</td>\n",
       "      <td>3.333</td>\n",
       "      <td>1.018</td>\n",
       "      <td>4.956</td>\n",
       "      <td>1</td>\n",
       "    </tr>\n",
       "    <tr>\n",
       "      <th>2</th>\n",
       "      <td>14.29</td>\n",
       "      <td>14.09</td>\n",
       "      <td>0.9050</td>\n",
       "      <td>5.291</td>\n",
       "      <td>3.337</td>\n",
       "      <td>2.699</td>\n",
       "      <td>4.825</td>\n",
       "      <td>1</td>\n",
       "    </tr>\n",
       "    <tr>\n",
       "      <th>3</th>\n",
       "      <td>13.84</td>\n",
       "      <td>13.94</td>\n",
       "      <td>0.8955</td>\n",
       "      <td>5.324</td>\n",
       "      <td>3.379</td>\n",
       "      <td>2.259</td>\n",
       "      <td>4.805</td>\n",
       "      <td>1</td>\n",
       "    </tr>\n",
       "    <tr>\n",
       "      <th>4</th>\n",
       "      <td>16.14</td>\n",
       "      <td>14.99</td>\n",
       "      <td>0.9034</td>\n",
       "      <td>5.658</td>\n",
       "      <td>3.562</td>\n",
       "      <td>1.355</td>\n",
       "      <td>5.175</td>\n",
       "      <td>1</td>\n",
       "    </tr>\n",
       "    <tr>\n",
       "      <th>5</th>\n",
       "      <td>14.38</td>\n",
       "      <td>14.21</td>\n",
       "      <td>0.8951</td>\n",
       "      <td>5.386</td>\n",
       "      <td>3.312</td>\n",
       "      <td>2.462</td>\n",
       "      <td>4.956</td>\n",
       "      <td>1</td>\n",
       "    </tr>\n",
       "    <tr>\n",
       "      <th>6</th>\n",
       "      <td>14.69</td>\n",
       "      <td>14.49</td>\n",
       "      <td>0.8799</td>\n",
       "      <td>5.563</td>\n",
       "      <td>3.259</td>\n",
       "      <td>3.586</td>\n",
       "      <td>5.219</td>\n",
       "      <td>1</td>\n",
       "    </tr>\n",
       "    <tr>\n",
       "      <th>7</th>\n",
       "      <td>14.11</td>\n",
       "      <td>14.10</td>\n",
       "      <td>0.8911</td>\n",
       "      <td>5.420</td>\n",
       "      <td>3.302</td>\n",
       "      <td>2.700</td>\n",
       "      <td>5.000</td>\n",
       "      <td>1</td>\n",
       "    </tr>\n",
       "    <tr>\n",
       "      <th>8</th>\n",
       "      <td>16.63</td>\n",
       "      <td>15.46</td>\n",
       "      <td>0.8747</td>\n",
       "      <td>6.053</td>\n",
       "      <td>3.465</td>\n",
       "      <td>2.040</td>\n",
       "      <td>5.877</td>\n",
       "      <td>1</td>\n",
       "    </tr>\n",
       "    <tr>\n",
       "      <th>9</th>\n",
       "      <td>16.44</td>\n",
       "      <td>15.25</td>\n",
       "      <td>0.8880</td>\n",
       "      <td>5.884</td>\n",
       "      <td>3.505</td>\n",
       "      <td>1.969</td>\n",
       "      <td>5.533</td>\n",
       "      <td>1</td>\n",
       "    </tr>\n",
       "  </tbody>\n",
       "</table>\n",
       "</div>"
      ],
      "text/plain": [
       "       0      1       2      3      4      5      6  7\n",
       "0  15.26  14.84  0.8710  5.763  3.312  2.221  5.220  1\n",
       "1  14.88  14.57  0.8811  5.554  3.333  1.018  4.956  1\n",
       "2  14.29  14.09  0.9050  5.291  3.337  2.699  4.825  1\n",
       "3  13.84  13.94  0.8955  5.324  3.379  2.259  4.805  1\n",
       "4  16.14  14.99  0.9034  5.658  3.562  1.355  5.175  1\n",
       "5  14.38  14.21  0.8951  5.386  3.312  2.462  4.956  1\n",
       "6  14.69  14.49  0.8799  5.563  3.259  3.586  5.219  1\n",
       "7  14.11  14.10  0.8911  5.420  3.302  2.700  5.000  1\n",
       "8  16.63  15.46  0.8747  6.053  3.465  2.040  5.877  1\n",
       "9  16.44  15.25  0.8880  5.884  3.505  1.969  5.533  1"
      ]
     },
     "execution_count": 37,
     "metadata": {},
     "output_type": "execute_result"
    }
   ],
   "source": [
    "#Importing packages and data\n",
    "\n",
    "import pandas as pd\n",
    "import numpy as np\n",
    "from sklearn import linear_model, metrics, preprocessing\n",
    "import matplotlib.pyplot as plt\n",
    "from sklearn.linear_model import LogisticRegression\n",
    "from sklearn.metrics import classification_report,accuracy_score\n",
    "from sklearn.metrics import confusion_matrix,accuracy_score\n",
    "\n",
    "seeds = pd.read_csv('seeds_dataset.txt', delimiter='\\t', header = None)\n",
    "num_row, num_col = seeds.shape\n",
    "seeds.head(10)"
   ]
  },
  {
   "cell_type": "code",
   "execution_count": 38,
   "id": "cf8ee230",
   "metadata": {},
   "outputs": [
    {
     "name": "stderr",
     "output_type": "stream",
     "text": [
      "/Users/shopup/opt/anaconda3/lib/python3.9/site-packages/sklearn/preprocessing/_label.py:116: DataConversionWarning: A column-vector y was passed when a 1d array was expected. Please change the shape of y to (n_samples, ), for example using ravel().\n",
      "  y = column_or_1d(y, warn=True)\n"
     ]
    }
   ],
   "source": [
    "### Splitting train and test\n",
    "train = seeds.sample(frac=0.8, random_state=25)\n",
    "test = seeds.drop(train.index)\n",
    "x_train = train.iloc[:, :-1]\n",
    "y_train = train.iloc[:,-1:]\n",
    "\n",
    "x_test = test.iloc[:, :-1] \n",
    "y_test = test.iloc[:,-1:] \n",
    "\n",
    "# y_train.describe()\n",
    "# min_max scaling of the features\n",
    "min_max_scaler = preprocessing.MinMaxScaler()\n",
    "x_train_min_max = min_max_scaler.fit_transform(x_train)\n",
    "x_test_min_max = min_max_scaler.fit_transform(x_test)\n",
    "\n",
    "# encoding y with label encoder to avoid error generated by continous variables\n",
    "lab = preprocessing.LabelEncoder()\n",
    "y_train_encoded = lab.fit_transform(y_train)\n",
    "y_test_encoded = lab.fit_transform(y_test)\n",
    "\n"
   ]
  },
  {
   "cell_type": "code",
   "execution_count": 39,
   "id": "65c562da",
   "metadata": {},
   "outputs": [
    {
     "name": "stdout",
     "output_type": "stream",
     "text": [
      "Coeffient used by model: \n",
      " [[ 0.          0.          0.          0.          0.         -4.41550629\n",
      "  -4.40500648]\n",
      " [ 2.59753394  0.07102575  0.          0.          1.89576751  0.\n",
      "   4.23957713]\n",
      " [-4.02906406 -4.10316895  0.         -1.10741743 -4.31025242  0.14438513\n",
      "   0.        ]]\n",
      "Bias used by model: \n",
      " [ 2.6308922  -5.92247366  3.29158146]\n"
     ]
    },
    {
     "name": "stderr",
     "output_type": "stream",
     "text": [
      "/Users/shopup/opt/anaconda3/lib/python3.9/site-packages/sklearn/linear_model/_sag.py:350: ConvergenceWarning: The max_iter was reached which means the coef_ did not converge\n",
      "  warnings.warn(\n"
     ]
    }
   ],
   "source": [
    "#Running logistic regression with Saga solver\n",
    "log_reg = LogisticRegression(solver='saga',penalty ='l1')\n",
    "log_reg.fit(x_train_min_max,y_train_encoded)\n",
    "\n",
    "print(\"Coeffient used by model: \"+\"\\n\", log_reg.coef_)\n",
    "print(\"Bias used by model: \"+\"\\n\", log_reg.intercept_)"
   ]
  },
  {
   "cell_type": "code",
   "execution_count": 40,
   "id": "d82e4506",
   "metadata": {},
   "outputs": [],
   "source": [
    "#predicting on test data\n",
    "pred_test = log_reg.predict(x_test_min_max)\n",
    "\n",
    "#rechecking the mode performance on training data\n",
    "pred_train = log_reg.predict(x_train_min_max)"
   ]
  },
  {
   "cell_type": "code",
   "execution_count": 41,
   "id": "68c32b3b",
   "metadata": {},
   "outputs": [
    {
     "name": "stdout",
     "output_type": "stream",
     "text": [
      "              precision    recall  f1-score   support\n",
      "\n",
      "           0       1.00      0.80      0.89        10\n",
      "           1       1.00      1.00      1.00        14\n",
      "           2       0.90      1.00      0.95        18\n",
      "\n",
      "    accuracy                           0.95        42\n",
      "   macro avg       0.97      0.93      0.95        42\n",
      "weighted avg       0.96      0.95      0.95        42\n",
      "\n"
     ]
    }
   ],
   "source": [
    "#checking the report of test data \n",
    "\n",
    "report = classification_report(y_test_encoded,pred_test)\n",
    "print(report)"
   ]
  },
  {
   "cell_type": "code",
   "execution_count": 42,
   "id": "2ffbf6ff",
   "metadata": {},
   "outputs": [
    {
     "name": "stdout",
     "output_type": "stream",
     "text": [
      "Confusion Matrix for train dataset:  [[56  2  2]\n",
      " [ 2 54  0]\n",
      " [ 2  0 50]]\n",
      "Confusion Matrix for test dataset:  [[ 8  0  2]\n",
      " [ 0 14  0]\n",
      " [ 0  0 18]]\n",
      "Accuracy score on test dataset: 0.9523809523809523\n"
     ]
    }
   ],
   "source": [
    "#finding confusion matrices\n",
    "cm_train = confusion_matrix(y_train_encoded, pred_train)\n",
    "print(\"Confusion Matrix for train dataset: \",cm_train)\n",
    "\n",
    "\n",
    "cm_test = confusion_matrix(y_test_encoded,pred_test)\n",
    "print(\"Confusion Matrix for test dataset: \",cm_test)\n",
    "\n",
    "print(\"Accuracy score on test dataset:\",accuracy_score(y_test_encoded,pred_test))"
   ]
  },
  {
   "cell_type": "code",
   "execution_count": 43,
   "id": "794c3e1a",
   "metadata": {},
   "outputs": [
    {
     "name": "stderr",
     "output_type": "stream",
     "text": [
      "/Users/shopup/opt/anaconda3/lib/python3.9/site-packages/sklearn/linear_model/_sag.py:350: ConvergenceWarning: The max_iter was reached which means the coef_ did not converge\n",
      "  warnings.warn(\n"
     ]
    },
    {
     "data": {
      "image/png": "[encoded data removed]",
      "text/plain": [
       "<Figure size 288x216 with 1 Axes>"
      ]
     },
     "metadata": {},
     "output_type": "display_data"
    }
   ],
   "source": [
    "# finding decision boundary\n",
    "\n",
    "## Taking first two features\n",
    "X = x_train_min_max[:, :2]\n",
    "logreg = LogisticRegression(solver='saga',penalty ='l1')\n",
    "logreg.fit( X, y_train_encoded)\n",
    "\n",
    "\n",
    "_, ax = plt.subplots(figsize=(4, 3))\n",
    "DecisionBoundaryDisplay.from_estimator(\n",
    "    logreg,\n",
    "    X,\n",
    "    cmap=plt.cm.Paired,\n",
    "    ax=ax,\n",
    "    response_method=\"predict\",\n",
    "    plot_method=\"pcolormesh\",\n",
    "    shading=\"auto\",\n",
    "    xlabel=\"Seed Feature1\",\n",
    "    ylabel=\"Seed Feature2\",\n",
    "    eps=0.5,\n",
    ")\n",
    "\n",
    "# Plot also the training points\n",
    "plt.scatter(X[:, 0], X[:, 1], c=Y, edgecolors=\"k\", cmap=plt.cm.Paired)\n",
    "\n",
    "\n",
    "plt.xticks(())\n",
    "plt.yticks(())\n",
    "\n",
    "plt.show()"
   ]
  },
  {
   "cell_type": "code",
   "execution_count": null,
   "id": "9d5f3236",
   "metadata": {},
   "outputs": [],
   "source": []
  },
  {
   "cell_type": "code",
   "execution_count": null,
   "id": "6672be98",
   "metadata": {},
   "outputs": [],
   "source": []
  }
 ],
 "metadata": {
  "kernelspec": {
   "display_name": "Python 3 (ipykernel)",
   "language": "python",
   "name": "python3"
  },
  "language_info": {
   "codemirror_mode": {
    "name": "ipython",
    "version": 3
   },
   "file_extension": ".py",
   "mimetype": "text/x-python",
   "name": "python",
   "nbconvert_exporter": "python",
   "pygments_lexer": "ipython3",
   "version": "3.9.7"
  }
 },
 "nbformat": 4,
 "nbformat_minor": 5
}
