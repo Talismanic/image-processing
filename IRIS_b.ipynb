{
 "cells": [
  {
   "cell_type": "code",
   "execution_count": 84,
   "id": "0e05ee09",
   "metadata": {},
   "outputs": [
    {
     "data": {
      "text/html": [
       "<div>\n",
       "<style scoped>\n",
       "    .dataframe tbody tr th:only-of-type {\n",
       "        vertical-align: middle;\n",
       "    }\n",
       "\n",
       "    .dataframe tbody tr th {\n",
       "        vertical-align: top;\n",
       "    }\n",
       "\n",
       "    .dataframe thead th {\n",
       "        text-align: right;\n",
       "    }\n",
       "</style>\n",
       "<table border=\"1\" class=\"dataframe\">\n",
       "  <thead>\n",
       "    <tr style=\"text-align: right;\">\n",
       "      <th></th>\n",
       "      <th>0</th>\n",
       "      <th>1</th>\n",
       "      <th>2</th>\n",
       "      <th>3</th>\n",
       "      <th>4</th>\n",
       "    </tr>\n",
       "  </thead>\n",
       "  <tbody>\n",
       "    <tr>\n",
       "      <th>0</th>\n",
       "      <td>5.1</td>\n",
       "      <td>3.5</td>\n",
       "      <td>1.4</td>\n",
       "      <td>0.2</td>\n",
       "      <td>Iris-setosa</td>\n",
       "    </tr>\n",
       "    <tr>\n",
       "      <th>1</th>\n",
       "      <td>4.9</td>\n",
       "      <td>3.0</td>\n",
       "      <td>1.4</td>\n",
       "      <td>0.2</td>\n",
       "      <td>Iris-setosa</td>\n",
       "    </tr>\n",
       "    <tr>\n",
       "      <th>2</th>\n",
       "      <td>4.7</td>\n",
       "      <td>3.2</td>\n",
       "      <td>1.3</td>\n",
       "      <td>0.2</td>\n",
       "      <td>Iris-setosa</td>\n",
       "    </tr>\n",
       "    <tr>\n",
       "      <th>3</th>\n",
       "      <td>4.6</td>\n",
       "      <td>3.1</td>\n",
       "      <td>1.5</td>\n",
       "      <td>0.2</td>\n",
       "      <td>Iris-setosa</td>\n",
       "    </tr>\n",
       "    <tr>\n",
       "      <th>4</th>\n",
       "      <td>5.0</td>\n",
       "      <td>3.6</td>\n",
       "      <td>1.4</td>\n",
       "      <td>0.2</td>\n",
       "      <td>Iris-setosa</td>\n",
       "    </tr>\n",
       "  </tbody>\n",
       "</table>\n",
       "</div>"
      ],
      "text/plain": [
       "     0    1    2    3            4\n",
       "0  5.1  3.5  1.4  0.2  Iris-setosa\n",
       "1  4.9  3.0  1.4  0.2  Iris-setosa\n",
       "2  4.7  3.2  1.3  0.2  Iris-setosa\n",
       "3  4.6  3.1  1.5  0.2  Iris-setosa\n",
       "4  5.0  3.6  1.4  0.2  Iris-setosa"
      ]
     },
     "execution_count": 84,
     "metadata": {},
     "output_type": "execute_result"
    }
   ],
   "source": [
    "#Importing packages and data\n",
    "\n",
    "import pandas as pd\n",
    "import numpy as np\n",
    "from sklearn import linear_model, metrics, preprocessing\n",
    "from scipy.stats import norm\n",
    "from numpy import mean\n",
    "from numpy import std\n",
    "import random\n",
    "import pandas as pd\n",
    "import numpy as np\n",
    "\n",
    "iris = pd.read_csv('iris.csv', delimiter=',', header = None)\n",
    "iris.head(5)\n"
   ]
  },
  {
   "cell_type": "code",
   "execution_count": 85,
   "id": "2cfa7784",
   "metadata": {},
   "outputs": [],
   "source": [
    "def find_distribution(data):\n",
    "    u = mean(data)\n",
    "    sg = std(data)\n",
    "    normal_dist = norm(u, sg)\n",
    "    return normal_dist"
   ]
  },
  {
   "cell_type": "code",
   "execution_count": 86,
   "id": "926d69cf",
   "metadata": {},
   "outputs": [],
   "source": [
    "def probability(X, dist1, dist2):\n",
    "    return dist1.pdf(X[0]) * dist2.pdf(X[1])"
   ]
  },
  {
   "cell_type": "code",
   "execution_count": 87,
   "id": "7561afc9",
   "metadata": {},
   "outputs": [],
   "source": [
    "def separate_by_class(dataset):\n",
    "    separated = dict()\n",
    "    for index, row in dataset.iterrows():\n",
    "        class_value = row[4]\n",
    "        if class_value not in separated:\n",
    "            separated[class_value] = list()\n",
    "        separated[class_value].append(row)\n",
    "    return separated\n",
    "separated_dataset = separate_by_class(train)"
   ]
  },
  {
   "cell_type": "code",
   "execution_count": 78,
   "id": "ed24da06",
   "metadata": {},
   "outputs": [],
   "source": [
    "def predictedClass(data, prob_setosa, prob_versicolor, prob_virginica):\n",
    "    max_prob = [0] * len(data)\n",
    "    predicted = [\"\"] * len(data)\n",
    "    for i in range(len(data)):\n",
    "        max_prob[i] = max(prob_setosa, prob_versicolor, prob_virginica)\n",
    "        if max_prob[i] == prob_setosa:\n",
    "            predicted[i] = \"Iris-setosa\"\n",
    "        elif max_prob[i] == prob_versicolor:\n",
    "            predicted[i] = \"Iris-versicolor\"\n",
    "        else:\n",
    "            predicted[i] = \"Iris-virginica\"\n",
    "    return predicted"
   ]
  },
  {
   "cell_type": "code",
   "execution_count": 88,
   "id": "05731f8e",
   "metadata": {},
   "outputs": [],
   "source": [
    "\n",
    "data = iris.iloc[:,[0,2,4]]\n"
   ]
  },
  {
   "cell_type": "code",
   "execution_count": 89,
   "id": "94266316",
   "metadata": {},
   "outputs": [],
   "source": [
    "#separating the data classwise\n",
    "separated = separate_by_class(data)\n",
    "X_seto = separated['Iris-setosa']\n",
    "X_versi = separated['Iris-versicolor']\n",
    "X_virgi = separated['Iris-virginica']\n",
    "X_seto = pd.DataFrame(X_seto)\n",
    "X_versi = pd.DataFrame(X_versi)\n",
    "X_virgi = pd.DataFrame(X_virgi)\n"
   ]
  },
  {
   "cell_type": "code",
   "execution_count": 90,
   "id": "d0b4d208",
   "metadata": {},
   "outputs": [
    {
     "name": "stdout",
     "output_type": "stream",
     "text": [
      "[0, 0, 0, 0, 0, 0, 0, 0, 0, 0, 0, 0, 0, 0, 0, 0, 0, 0, 0, 0, 0, 0, 0, 0, 0, 0, 0, 0, 0, 0, 0, 0, 0, 0, 0, 0, 0, 0, 0, 0, 0, 0, 0, 0, 0, 0, 0, 0, 0, 0, 1, 0, 1, 0, 0, 0, 0, 0, 0, 0, 0, 0, 0, 0, 0, 0, 0, 0, 0, 0, 0, 0, 1, 0, 0, 0, 1, 1, 0, 0, 0, 0, 0, 1, 0, 0, 0, 0, 0, 0, 0, 0, 0, 0, 0, 0, 0, 0, 0, 0, 0, 0, 0, 0, 0, 0, 1, 0, 0, 0, 0, 0, 0, 1, 0, 0, 0, 0, 0, 1, 0, 1, 0, 0, 0, 0, 1, 1, 0, 0, 0, 0, 0, 0, 0, 0, 0, 0, 1, 0, 0, 0, 0, 0, 0, 0, 0, 0, 0, 0]\n",
      "accuracy:  91.33333333333333\n"
     ]
    }
   ],
   "source": [
    "# pdf of each class for each attribute\n",
    "# print(X_seto)\n",
    "X1_seto = find_distribution(X_seto[0])\n",
    "X2_seto = find_distribution(X_seto[2])\n",
    "\n",
    "\n",
    "X1_versi = find_distribution(X_versi[0])\n",
    "X2_versi = find_distribution(X_versi[2])\n",
    "\n",
    "X1_virgi = find_distribution(X_virgi[0])\n",
    "X2_virgi = find_distribution(X_virgi[2])\n",
    "\n",
    "diff = []\n",
    "predicted_classes = []\n",
    "for index, row in data.iterrows():\n",
    "    X_test = [row[0], row[2]]\n",
    "    Y_test = row[4]\n",
    "    prob_seto = probability(X_test, X1_seto, X2_seto)\n",
    "    prob_versi = probability(X_test, X1_versi, X2_versi)\n",
    "    prob_virgi = probability(X_test, X1_virgi, X2_virgi)\n",
    "    predicted = predictedClass(X_test, prob_seto, prob_versi, prob_virgi)\n",
    "    Y_pred = max (predicted, key=predicted.count)\n",
    "    if Y_pred == \"Iris-setosa\":\n",
    "        data = X_test +[1]\n",
    "        predicted_classes.append(data)\n",
    "    elif Y_pred == \"Iris-versicolor\":\n",
    "        data = X_test + [2]\n",
    "        predicted_classes.append(data)\n",
    "    else:\n",
    "        data = X_test + [3]\n",
    "        predicted_classes.append(data)\n",
    "\n",
    "    \n",
    "    if str(Y_pred) == str(Y_test):\n",
    "#         print(\"diff: \", 0)\n",
    "        diff.append(0)\n",
    "    else:\n",
    "#         print(\"diff: \", 1)\n",
    "        diff.append(1)\n",
    "\n",
    "print(diff)\n",
    "\n",
    "\n",
    "wrong = sum(diff)\n",
    "accurate = len(diff) - wrong\n",
    "print(\"accuracy: \", accurate/len(diff)*100)\n",
    "# print(\"predicted classes: \", predicted_classes)\n",
    "\n"
   ]
  },
  {
   "cell_type": "code",
   "execution_count": 91,
   "id": "6b25a489",
   "metadata": {},
   "outputs": [
    {
     "data": {
      "text/plain": [
       "<AxesSubplot:xlabel='X1', ylabel='X2'>"
      ]
     },
     "execution_count": 91,
     "metadata": {},
     "output_type": "execute_result"
    },
    {
     "data": {
      "image/png": "[encoded data removed]",
      "text/plain": [
       "<Figure size 432x288 with 1 Axes>"
      ]
     },
     "metadata": {
      "needs_background": "light"
     },
     "output_type": "display_data"
    }
   ],
   "source": [
    "# decision boundary for  data set\n",
    "import seaborn as sns\n",
    "X= pd.DataFrame(predicted_classes, columns =[\"X1\", \"X2\", \"class\"])\n",
    "\n",
    "sns.scatterplot(x=\"X1\", y=\"X2\", hue='class', data=X)"
   ]
  },
  {
   "cell_type": "code",
   "execution_count": null,
   "id": "8fc4903b",
   "metadata": {},
   "outputs": [],
   "source": []
  },
  {
   "cell_type": "code",
   "execution_count": null,
   "id": "9b754169",
   "metadata": {},
   "outputs": [],
   "source": []
  }
 ],
 "metadata": {
  "kernelspec": {
   "display_name": "Python 3 (ipykernel)",
   "language": "python",
   "name": "python3"
  },
  "language_info": {
   "codemirror_mode": {
    "name": "ipython",
    "version": 3
   },
   "file_extension": ".py",
   "mimetype": "text/x-python",
   "name": "python",
   "nbconvert_exporter": "python",
   "pygments_lexer": "ipython3",
   "version": "3.9.7"
  }
 },
 "nbformat": 4,
 "nbformat_minor": 5
}
